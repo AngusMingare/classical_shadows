{
 "cells": [
  {
   "cell_type": "markdown",
   "metadata": {},
   "source": [
    "# Quantum Error Mitigation via Linear Depth Verifier Circuits"
   ]
  },
  {
   "cell_type": "code",
   "execution_count": 1,
   "metadata": {},
   "outputs": [],
   "source": [
    "from qiskit.circuit.library import MCXGate\n",
    "from qiskit import QuantumCircuit, execute, transpile, Aer\n",
    "from qiskit.providers.fake_provider import FakeMumbai\n",
    "from qiskit.extensions import UnitaryGate\n",
    "import qiskit_aer.noise as noise\n",
    "from scipy.linalg import diagsvd\n",
    "from scipy.optimize import minimize\n",
    "import matplotlib.pyplot as plt\n",
    "import numpy as np"
   ]
  },
  {
   "cell_type": "markdown",
   "metadata": {},
   "source": [
    "Let's quickly test where the crossover might be."
   ]
  },
  {
   "cell_type": "code",
   "execution_count": 2,
   "metadata": {},
   "outputs": [
    {
     "data": {
      "image/png": "[encoded data removed]",
      "text/plain": [
       "<Figure size 640x480 with 1 Axes>"
      ]
     },
     "metadata": {},
     "output_type": "display_data"
    },
    {
     "name": "stdout",
     "output_type": "stream",
     "text": [
      "[23, 59, 109, 285, 539, 1237, 2730, 5210, 10188, 19853]\n",
      "[286, 422, 558, 694, 830, 966, 1102, 1238, 1374, 1510]\n"
     ]
    }
   ],
   "source": [
    "square_grid = [\n",
    "    [0,1], [1,2], [2,3],\n",
    "    [0,4], [1,5], [2,6], [3,7],\n",
    "    [4,5], [5,6], [6,7],\n",
    "    [4,8], [5,9], [6,10], [7,11],\n",
    "    [8,9], [9,10], [10,11],\n",
    "    [8,12], [9,13], [10,14], [11,15],\n",
    "    [12,13], [13,14], [14,15]\n",
    "]\n",
    "\n",
    "depths = []\n",
    "verifier_depths = []\n",
    "for n in range(2, 12):\n",
    "    qc = QuantumCircuit(n+1)\n",
    "    gate = MCXGate(n)\n",
    "    qc.append(gate, range(n+1))\n",
    "    trans = transpile(qc, basis_gates=[\"cx\", \"u3\"], coupling_map=square_grid)\n",
    "    depths.append(trans.depth())\n",
    "    verifier_depths.append((n+1)*136 - 122)\n",
    "\n",
    "plt.plot(range(2,12), depths)\n",
    "plt.plot(range(2,12), verifier_depths)\n",
    "plt.yscale(\"log\")\n",
    "plt.xlabel(\"Number of control gates\")\n",
    "plt.ylabel(\"Depth\")\n",
    "plt.legend([\"MCX\", \"MCX Verifier\"])\n",
    "plt.show()\n",
    "\n",
    "print(depths)\n",
    "print(verifier_depths)\n"
   ]
  },
  {
   "cell_type": "markdown",
   "metadata": {},
   "source": [
    "The next cell just confirms the MPO structure of the MCX gate"
   ]
  },
  {
   "cell_type": "code",
   "execution_count": 3,
   "metadata": {},
   "outputs": [],
   "source": [
    "id_gate = np.eye(2)\n",
    "zero_gate = np.zeros((2,2))\n",
    "projector_00 = np.array([[1,0],[0,0]])\n",
    "projector_11 = np.array([[0,0],[0,1]])\n",
    "control_gate_3 = np.array([projector_00, projector_11])\n",
    "control_gate_4 = np.array([[id_gate, zero_gate],[projector_00, projector_11]])\n",
    "x_gate = np.array([[0,1],[1,0]])\n",
    "x_gate_3 = np.array([id_gate, x_gate])\n",
    "\n",
    "n = 2\n",
    "tensors = [control_gate_3] + [control_gate_4] * (n-1) + [x_gate_3]\n",
    "\n",
    "# Check that this is indeed MCX\n",
    "o1 = np.einsum(tensors[0], [0,1,2], tensors[1], [0,3,4,5], [3,1,4,2,5])\n",
    "o2 = np.einsum(o1, [0,1,2,3,4], tensors[2], [0,5,6], [1,2,5,3,4,6])\n",
    "o3 = np.reshape(o2, (8,8))\n",
    "# print(o3)\n",
    "\n",
    "\n",
    "zero = np.array([1,0])\n",
    "one = np.array([0,1])\n",
    "\n",
    "for i in range(2**(n+1)):\n",
    "    for j in range(2**(n+1)):\n",
    "        input_bits = bin(i)[2:].zfill(n+1)\n",
    "        output_bits = bin(j)[2:].zfill(n+1)\n",
    "\n",
    "        input_states = []\n",
    "        output_states = []\n",
    "\n",
    "        for b in input_bits:\n",
    "            if b == \"0\":\n",
    "                input_states.append(zero)\n",
    "            else:\n",
    "                input_states.append(one)\n",
    "        for b in output_bits:\n",
    "            if b == \"0\":\n",
    "                output_states.append(zero)\n",
    "            else:\n",
    "                output_states.append(one)\n",
    "        \n",
    "        tensor_1 = np.einsum(tensors[0], [0,1,2], output_states[0], [1], input_states[0], [2], [0])\n",
    "        contracted_tensors = [tensor_1]\n",
    "\n",
    "        for k in range(1, n):\n",
    "            tensor = tensors[k]\n",
    "            output_state = output_states[k]\n",
    "            input_state = input_states[k]\n",
    "            tensor_k = np.einsum(tensor, [0,1,2,3], output_state, [2], input_state, [3], [0,1])\n",
    "            contracted_tensors.append(tensor_k)\n",
    "        \n",
    "        tensor_n = np.einsum(tensors[n], [0,1,2], output_states[n], [1], input_states[n], [2], [0])\n",
    "        contracted_tensors.append(tensor_n)\n",
    "\n",
    "        for k in range(n-1):\n",
    "            top_tensor = contracted_tensors[k]\n",
    "            bottom_tensor = contracted_tensors[k+1]\n",
    "            contracted_tensors[k+1] = np.einsum(top_tensor, [0], bottom_tensor, [0,1], [1])\n",
    "        \n",
    "        output_val = np.einsum(contracted_tensors[n-1], [0], contracted_tensors[n], [0])\n",
    "        # if output_val == 1.0:\n",
    "            # print(input_bits, output_bits, output_val)\n",
    "\n",
    "        if input_bits[:-1] == output_bits[:-1] and input_bits[:-1] == \"1\" * n and input_bits[-1] != output_bits[-1]:\n",
    "            assert np.isclose(output_val, 1)\n",
    "        elif input_bits == output_bits and input_bits[:-1] != \"1\" * n:\n",
    "            assert np.isclose(output_val, 1)\n",
    "        else:\n",
    "            assert output_val != 1"
   ]
  },
  {
   "cell_type": "markdown",
   "metadata": {},
   "source": [
    "We now perform an SVD sweep on the MCX MPO to obtain a verifier circuit structure."
   ]
  },
  {
   "cell_type": "code",
   "execution_count": 13,
   "metadata": {},
   "outputs": [
    {
     "name": "stdout",
     "output_type": "stream",
     "text": [
      "2 -2.8284271247461903 2.8284271247461903\n",
      "3 -4.0 4.0\n",
      "4 -5.656854249492381 5.656854249492381\n",
      "5 -7.999999999999999 8.0\n",
      "6 -11.31370849898476 11.313708498984761\n",
      "7 -15.999999999999998 16.0\n",
      "8 -22.627416997969522 22.627416997969522\n",
      "9 -32.0 32.0\n",
      "10 -45.254833995939045 45.254833995939045\n",
      "11 -63.99999999999999 64.0\n",
      "12 -90.50966799187806 90.50966799187809\n",
      "13 -127.99999999999997 128.0\n",
      "14 -181.01933598375612 181.01933598375618\n",
      "15 -255.99999999999994 256.0\n",
      "16 -362.0386719675123 362.03867196751236\n",
      "17 -512.0 512.0\n",
      "18 -724.0773439350246 724.0773439350247\n",
      "19 -1024.0 1024.0\n",
      "20 -1448.1546878700494 1448.1546878700494\n"
     ]
    }
   ],
   "source": [
    "def mcx_verifier(n):\n",
    "\n",
    "    assert n >= 2, \"There must be at least 2 control qubits.\"\n",
    "\n",
    "    ##############\n",
    "    # Definitions\n",
    "    ##############\n",
    "    \n",
    "    id_gate = np.eye(2)\n",
    "    zero_gate = np.zeros((2,2))\n",
    "    projector_00 = np.array([[1,0],[0,0]])\n",
    "    projector_11 = np.array([[0,0],[0,1]])\n",
    "    control_gate_3 = np.array([projector_00, projector_11])\n",
    "    control_gate_4 = np.array([[id_gate, zero_gate],[projector_00, projector_11]])\n",
    "    x_gate = np.array([[0,1],[1,0]])\n",
    "    x_gate_3 = np.array([id_gate, x_gate])\n",
    "\n",
    "    ##############\n",
    "    # SVD Sweep\n",
    "    ##############\n",
    "\n",
    "    final_tensors = []\n",
    "\n",
    "    # Bond order: up, down, right, left\n",
    "\n",
    "    tensor_1 = control_gate_3\n",
    "    tensor_1 = np.reshape(tensor_1, (2,4))\n",
    "    u1, s1, vh1 = np.linalg.svd(tensor_1, full_matrices=True)\n",
    "    final_tensors.append(vh1)\n",
    "\n",
    "    s1 = diagsvd(s1, 2,2)\n",
    "    u1s1 = np.matmul(u1,s1)\n",
    "    feed_in_matrix = u1s1\n",
    "\n",
    "    for _ in range(1, n):\n",
    "        tensor_idx = control_gate_4\n",
    "        tensor_idx = np.einsum(\"abcd,ea->becd\", tensor_idx, feed_in_matrix)\n",
    "        tensor_idx = np.reshape(tensor_idx, (2,8))\n",
    "        u_idx, s_idx, vh_idx = np.linalg.svd(tensor_idx, full_matrices=True)\n",
    "        final_tensors.append(vh_idx)\n",
    "        s_idx = diagsvd(s_idx, 2,2)\n",
    "        u_idxs_idx = np.matmul(u_idx, s_idx)\n",
    "        feed_in_matrix = u_idxs_idx\n",
    "\n",
    "    tensor_last = x_gate_3 \n",
    "    tensor_last = np.einsum(\"abc,da->dbc\", tensor_last, feed_in_matrix)\n",
    "    tensor_last = np.reshape(tensor_last, (1,8))\n",
    "    u_last, s_last, vh_last = np.linalg.svd(tensor_last, full_matrices=True)\n",
    "    final_tensors.append(vh_last)\n",
    "    s_last = diagsvd(s_last,1,8)\n",
    "    u_lasts_last = np.matmul(u_last, s_last)\n",
    "\n",
    "    output_tensor = np.reshape(u_lasts_last, (8)).conjugate()\n",
    "\n",
    "    return final_tensors, output_tensor\n",
    "\n",
    "for num_ctrls in range(2, 21): \n",
    "    _, output = mcx_verifier(num_ctrls)\n",
    "    print(num_ctrls, output[0], 2**((num_ctrls+1)/2))\n"
   ]
  },
  {
   "cell_type": "markdown",
   "metadata": {},
   "source": [
    "Now test the MCX verifier"
   ]
  },
  {
   "cell_type": "code",
   "execution_count": 5,
   "metadata": {},
   "outputs": [
    {
     "name": "stderr",
     "output_type": "stream",
     "text": [
      "/opt/homebrew/lib/python3.10/site-packages/numpy/linalg/linalg.py:2154: RuntimeWarning: divide by zero encountered in det\n",
      "  r = _umath_linalg.det(a, signature=signature)\n",
      "/opt/homebrew/lib/python3.10/site-packages/numpy/linalg/linalg.py:2154: RuntimeWarning: invalid value encountered in det\n",
      "  r = _umath_linalg.det(a, signature=signature)\n"
     ]
    }
   ],
   "source": [
    "n = 2\n",
    "verifier_mcx, output_vec = mcx_verifier(n)\n",
    "\n",
    "input_bits = []\n",
    "output_bits = []\n",
    "for i in range(2*(n+1)):\n",
    "    if i % 2 == 0:\n",
    "        output_bits.append(i)\n",
    "    else:\n",
    "        input_bits.append(i)\n",
    "\n",
    "for i in range(2**(n+1)):\n",
    "    for j in range(2**(n+1)):\n",
    "\n",
    "        qc = QuantumCircuit(2*(n+1))\n",
    "\n",
    "        input_bitstring = bin(i)[2:].zfill(n+1)\n",
    "        output_bitstring = bin(j)[2:].zfill(n+1)\n",
    "\n",
    "        for b_idx in range(len(input_bitstring)):\n",
    "            b = input_bitstring[b_idx]\n",
    "            if b == \"1\":\n",
    "                qc.x(input_bits[b_idx])\n",
    "        for b_idx in range(len(output_bitstring)):\n",
    "            b = output_bitstring[b_idx]\n",
    "            if b == \"1\":\n",
    "                qc.x(output_bits[b_idx])\n",
    "\n",
    "        for k in range(n+1):\n",
    "            gate = verifier_mcx[k]\n",
    "            qiskit_gate = UnitaryGate(gate)\n",
    "\n",
    "            if k == 0:\n",
    "                qc.append(qiskit_gate, [1,0])\n",
    "            else:\n",
    "                qc.append(qiskit_gate, [2*k+1, 2*k, 2*k-1])\n",
    "\n",
    "        # print(qc)\n",
    "        \n",
    "        job = execute(qc, backend=Aer.get_backend(\"statevector_simulator\"))\n",
    "        output_val = np.array(job.result().get_statevector())[0]\n",
    "        output_fidelity = 1 - 0.5 * np.abs(np.abs(1/(2**((n+1)/2)))**2 - np.abs(output_val)**2)\n",
    "    \n",
    "        # output_fidelity = np.sqrt(np.abs(np.inner(output_val, output_vec))**2)\n",
    "        # print(input_bitstring, output_bitstring, output_fidelity)\n",
    "\n",
    "        if input_bitstring[:-1] == output_bitstring[:-1] and input_bitstring[:-1] == \"1\" * n and input_bitstring[-1] != output_bitstring[-1]:\n",
    "            assert np.isclose(output_fidelity, 1)\n",
    "        elif input_bitstring == output_bitstring and input_bitstring[:-1] != \"1\" * n:\n",
    "            assert np.isclose(output_fidelity, 1)\n",
    "        else:\n",
    "            assert output_fidelity != 1\n"
   ]
  },
  {
   "cell_type": "markdown",
   "metadata": {},
   "source": [
    "Plot the crossover point."
   ]
  },
  {
   "cell_type": "code",
   "execution_count": 6,
   "metadata": {},
   "outputs": [
    {
     "data": {
      "image/png": "[encoded data removed]",
      "text/plain": [
       "<Figure size 640x480 with 1 Axes>"
      ]
     },
     "metadata": {},
     "output_type": "display_data"
    }
   ],
   "source": [
    "square_grid = [\n",
    "    [0,1], [1,2], [2,3], [3,4],\n",
    "    [0,5], [1,6], [2,7], [3,8], [4,9],\n",
    "    [5,6], [6,7], [7,8], [8,9],\n",
    "    [5,10], [6,11], [7,12], [8,13], [9,14],\n",
    "    [10,11], [11,12], [12,13], [13,14],\n",
    "    [10,15], [11,16], [12,17], [13,18], [14,19],\n",
    "    [15,16], [16,17], [17,18], [18,19],\n",
    "    [15,20], [16,21], [17,22], [18,23], [19,24],\n",
    "    [20,21], [21,22], [22,23], [23,24]\n",
    "]\n",
    "\n",
    "verifier_depths = []\n",
    "for n in range(2, 10):\n",
    "    depths = []\n",
    "    for _ in range(20):\n",
    "        verifier_mcx, _ = mcx_verifier(n)\n",
    "\n",
    "        qc = QuantumCircuit(2*(n+1))\n",
    "\n",
    "        for k in range(n+1):\n",
    "            gate = verifier_mcx[k]\n",
    "            qiskit_gate = UnitaryGate(gate)\n",
    "\n",
    "            if k == 0:\n",
    "                qc.append(qiskit_gate, [1,0])\n",
    "            else:\n",
    "                qc.append(qiskit_gate, [2*k+1, 2*k, 2*k-1])\n",
    "        \n",
    "        trans = transpile(qc, basis_gates=[\"cx\", \"u3\"], coupling_map=square_grid)\n",
    "        depths.append(trans.depth())\n",
    "    verifier_depths.append(round(np.mean(depths)))\n",
    "\n",
    "depths = []\n",
    "for n in range(2, 10):\n",
    "    temp_depths = []\n",
    "    for _ in range(20):\n",
    "        qc = QuantumCircuit(n+1)\n",
    "        gate = MCXGate(n)\n",
    "        qc.append(gate, range(n+1))\n",
    "        trans = transpile(qc, basis_gates=[\"cx\", \"u3\"], coupling_map=square_grid)\n",
    "        temp_depths.append(trans.depth())\n",
    "    depths.append(round(np.mean(temp_depths)))\n",
    "\n",
    "plt.plot(range(2,10), depths)\n",
    "plt.plot(range(2,10), verifier_depths)\n",
    "plt.yscale(\"log\")\n",
    "plt.xlabel(\"Number of control qubits\")\n",
    "plt.ylabel(\"Depth\")\n",
    "plt.legend([\"MCX\", \"MCX Verifier\"])\n",
    "plt.show()"
   ]
  },
  {
   "cell_type": "markdown",
   "metadata": {},
   "source": [
    "So with just 6 control bits, we can be confident that more errors are arising from the MCX gate than from the verifier circuit. At 8 or more control bits, error mitigation using the verifier circuit may become possible. Error mitigation will certainly be possible with 12 or more control bits. \n",
    "\n",
    "Let's test some error mitigation. We'll start with single qubit corrections and a greedy optimisation strategy."
   ]
  },
  {
   "cell_type": "code",
   "execution_count": 7,
   "metadata": {},
   "outputs": [],
   "source": [
    "# Build noise model\n",
    "backend = FakeMumbai()\n",
    "noise_model = noise.NoiseModel.from_backend(backend, gate_error=True, readout_error=False, thermal_relaxation=True)"
   ]
  },
  {
   "cell_type": "code",
   "execution_count": 8,
   "metadata": {},
   "outputs": [],
   "source": [
    "def mcx_fidelity(parameters):\n",
    "    num_control_bits = 9\n",
    "    qc = QuantumCircuit(2*(num_control_bits+1))\n",
    "\n",
    "    input_bits = []\n",
    "    output_bits = []\n",
    "    for i in range(2*(num_control_bits+1)):\n",
    "        if i % 2 == 0:\n",
    "            output_bits.append(i)\n",
    "        else:\n",
    "            input_bits.append(i)\n",
    "\n",
    "    # Initialise inputs\n",
    "\n",
    "\n",
    "    # Add mcx gate\n",
    "    mcx_gate = MCXGate(num_control_bits)\n",
    "    qc.append(mcx_gate, output_bits)\n",
    "\n",
    "    # Error mitigation layer\n",
    "    for k in range(num_control_bits+1):\n",
    "        qc.rx(parameters[3*k], output_bits[k])\n",
    "        qc.ry(parameters[3*k+1], output_bits[k])\n",
    "        qc.rz(parameters[3*k+2], output_bits[k])\n",
    "\n",
    "    # Add verifier circuit\n",
    "    verifier_mcx, output_vec = mcx_verifier(num_control_bits)\n",
    "\n",
    "    for k in range(num_control_bits+1):\n",
    "        gate = verifier_mcx[k]\n",
    "        qiskit_gate = UnitaryGate(gate)\n",
    "\n",
    "        if k == 0:\n",
    "            qc.append(qiskit_gate, [1,0])\n",
    "        else:\n",
    "            qc.append(qiskit_gate, [2*k+1, 2*k, 2*k-1])\n",
    "\n",
    "    # Execute circuit\n",
    "    qc.measure_all()\n",
    "\n",
    "    trans = transpile(qc, backend=FakeMumbai())\n",
    "    job = execute(trans, backend=Aer.get_backend(\"qasm_simulator\"), noise_model=noise_model, shots=1000)\n",
    "\n",
    "    # Get post-selected counts and compute fidelity\n",
    "    counts = job.result().get_counts()\n",
    "    all_0s = \"0\" * (2*(num_control_bits+1))\n",
    "\n",
    "    all_0s_counts = counts[all_0s] if all_0s in list(counts.keys()) else 0\n",
    "    all_0s_weight = np.sqrt(all_0s_counts / sum(list(counts.values())))\n",
    "    output_fidelity = 1 - 0.5 * np.abs(np.abs(all_0s_weight)**2 - np.abs(1/(2**(num_control_bits))**2))\n",
    "\n",
    "    return output_fidelity\n",
    "\n",
    "# print(mcx_fidelity([0.0] * 15))"
   ]
  },
  {
   "cell_type": "code",
   "execution_count": 9,
   "metadata": {},
   "outputs": [
    {
     "name": "stderr",
     "output_type": "stream",
     "text": [
      "/opt/homebrew/lib/python3.10/site-packages/numpy/linalg/linalg.py:2154: RuntimeWarning: divide by zero encountered in det\n",
      "  r = _umath_linalg.det(a, signature=signature)\n",
      "/opt/homebrew/lib/python3.10/site-packages/numpy/linalg/linalg.py:2154: RuntimeWarning: invalid value encountered in det\n",
      "  r = _umath_linalg.det(a, signature=signature)\n",
      "/opt/homebrew/lib/python3.10/site-packages/numpy/linalg/linalg.py:2154: RuntimeWarning: divide by zero encountered in det\n",
      "  r = _umath_linalg.det(a, signature=signature)\n",
      "/opt/homebrew/lib/python3.10/site-packages/numpy/linalg/linalg.py:2154: RuntimeWarning: invalid value encountered in det\n",
      "  r = _umath_linalg.det(a, signature=signature)\n",
      "/opt/homebrew/lib/python3.10/site-packages/numpy/linalg/linalg.py:2154: RuntimeWarning: divide by zero encountered in det\n",
      "  r = _umath_linalg.det(a, signature=signature)\n",
      "/opt/homebrew/lib/python3.10/site-packages/numpy/linalg/linalg.py:2154: RuntimeWarning: invalid value encountered in det\n",
      "  r = _umath_linalg.det(a, signature=signature)\n"
     ]
    },
    {
     "name": "stdout",
     "output_type": "stream",
     "text": [
      "0.98775\n"
     ]
    },
    {
     "name": "stderr",
     "output_type": "stream",
     "text": [
      "/opt/homebrew/lib/python3.10/site-packages/numpy/linalg/linalg.py:2154: RuntimeWarning: divide by zero encountered in det\n",
      "  r = _umath_linalg.det(a, signature=signature)\n",
      "/opt/homebrew/lib/python3.10/site-packages/numpy/linalg/linalg.py:2154: RuntimeWarning: invalid value encountered in det\n",
      "  r = _umath_linalg.det(a, signature=signature)\n",
      "/opt/homebrew/lib/python3.10/site-packages/numpy/linalg/linalg.py:2154: RuntimeWarning: divide by zero encountered in det\n",
      "  r = _umath_linalg.det(a, signature=signature)\n",
      "/opt/homebrew/lib/python3.10/site-packages/numpy/linalg/linalg.py:2154: RuntimeWarning: invalid value encountered in det\n",
      "  r = _umath_linalg.det(a, signature=signature)\n"
     ]
    },
    {
     "name": "stdout",
     "output_type": "stream",
     "text": [
      "0.99475\n"
     ]
    },
    {
     "name": "stderr",
     "output_type": "stream",
     "text": [
      "/opt/homebrew/lib/python3.10/site-packages/numpy/linalg/linalg.py:2154: RuntimeWarning: divide by zero encountered in det\n",
      "  r = _umath_linalg.det(a, signature=signature)\n",
      "/opt/homebrew/lib/python3.10/site-packages/numpy/linalg/linalg.py:2154: RuntimeWarning: invalid value encountered in det\n",
      "  r = _umath_linalg.det(a, signature=signature)\n",
      "/opt/homebrew/lib/python3.10/site-packages/numpy/linalg/linalg.py:2154: RuntimeWarning: divide by zero encountered in det\n",
      "  r = _umath_linalg.det(a, signature=signature)\n",
      "/opt/homebrew/lib/python3.10/site-packages/numpy/linalg/linalg.py:2154: RuntimeWarning: invalid value encountered in det\n",
      "  r = _umath_linalg.det(a, signature=signature)\n",
      "/opt/homebrew/lib/python3.10/site-packages/numpy/linalg/linalg.py:2154: RuntimeWarning: divide by zero encountered in det\n",
      "  r = _umath_linalg.det(a, signature=signature)\n",
      "/opt/homebrew/lib/python3.10/site-packages/numpy/linalg/linalg.py:2154: RuntimeWarning: invalid value encountered in det\n",
      "  r = _umath_linalg.det(a, signature=signature)\n",
      "/opt/homebrew/lib/python3.10/site-packages/numpy/linalg/linalg.py:2154: RuntimeWarning: divide by zero encountered in det\n",
      "  r = _umath_linalg.det(a, signature=signature)\n",
      "/opt/homebrew/lib/python3.10/site-packages/numpy/linalg/linalg.py:2154: RuntimeWarning: invalid value encountered in det\n",
      "  r = _umath_linalg.det(a, signature=signature)\n"
     ]
    },
    {
     "name": "stdout",
     "output_type": "stream",
     "text": [
      "0.99325\n"
     ]
    },
    {
     "name": "stderr",
     "output_type": "stream",
     "text": [
      "/opt/homebrew/lib/python3.10/site-packages/numpy/linalg/linalg.py:2154: RuntimeWarning: divide by zero encountered in det\n",
      "  r = _umath_linalg.det(a, signature=signature)\n",
      "/opt/homebrew/lib/python3.10/site-packages/numpy/linalg/linalg.py:2154: RuntimeWarning: invalid value encountered in det\n",
      "  r = _umath_linalg.det(a, signature=signature)\n",
      "/opt/homebrew/lib/python3.10/site-packages/numpy/linalg/linalg.py:2154: RuntimeWarning: divide by zero encountered in det\n",
      "  r = _umath_linalg.det(a, signature=signature)\n",
      "/opt/homebrew/lib/python3.10/site-packages/numpy/linalg/linalg.py:2154: RuntimeWarning: invalid value encountered in det\n",
      "  r = _umath_linalg.det(a, signature=signature)\n"
     ]
    },
    {
     "name": "stdout",
     "output_type": "stream",
     "text": [
      "0.98675\n"
     ]
    },
    {
     "name": "stderr",
     "output_type": "stream",
     "text": [
      "/opt/homebrew/lib/python3.10/site-packages/numpy/linalg/linalg.py:2154: RuntimeWarning: divide by zero encountered in det\n",
      "  r = _umath_linalg.det(a, signature=signature)\n",
      "/opt/homebrew/lib/python3.10/site-packages/numpy/linalg/linalg.py:2154: RuntimeWarning: invalid value encountered in det\n",
      "  r = _umath_linalg.det(a, signature=signature)\n",
      "/opt/homebrew/lib/python3.10/site-packages/numpy/linalg/linalg.py:2154: RuntimeWarning: divide by zero encountered in det\n",
      "  r = _umath_linalg.det(a, signature=signature)\n",
      "/opt/homebrew/lib/python3.10/site-packages/numpy/linalg/linalg.py:2154: RuntimeWarning: invalid value encountered in det\n",
      "  r = _umath_linalg.det(a, signature=signature)\n"
     ]
    },
    {
     "name": "stdout",
     "output_type": "stream",
     "text": [
      "0.99475\n"
     ]
    },
    {
     "name": "stderr",
     "output_type": "stream",
     "text": [
      "/opt/homebrew/lib/python3.10/site-packages/numpy/linalg/linalg.py:2154: RuntimeWarning: divide by zero encountered in det\n",
      "  r = _umath_linalg.det(a, signature=signature)\n",
      "/opt/homebrew/lib/python3.10/site-packages/numpy/linalg/linalg.py:2154: RuntimeWarning: invalid value encountered in det\n",
      "  r = _umath_linalg.det(a, signature=signature)\n",
      "/opt/homebrew/lib/python3.10/site-packages/numpy/linalg/linalg.py:2154: RuntimeWarning: divide by zero encountered in det\n",
      "  r = _umath_linalg.det(a, signature=signature)\n",
      "/opt/homebrew/lib/python3.10/site-packages/numpy/linalg/linalg.py:2154: RuntimeWarning: invalid value encountered in det\n",
      "  r = _umath_linalg.det(a, signature=signature)\n"
     ]
    },
    {
     "name": "stdout",
     "output_type": "stream",
     "text": [
      "0.99725\n"
     ]
    },
    {
     "name": "stderr",
     "output_type": "stream",
     "text": [
      "/opt/homebrew/lib/python3.10/site-packages/numpy/linalg/linalg.py:2154: RuntimeWarning: divide by zero encountered in det\n",
      "  r = _umath_linalg.det(a, signature=signature)\n",
      "/opt/homebrew/lib/python3.10/site-packages/numpy/linalg/linalg.py:2154: RuntimeWarning: invalid value encountered in det\n",
      "  r = _umath_linalg.det(a, signature=signature)\n",
      "/opt/homebrew/lib/python3.10/site-packages/numpy/linalg/linalg.py:2154: RuntimeWarning: divide by zero encountered in det\n",
      "  r = _umath_linalg.det(a, signature=signature)\n",
      "/opt/homebrew/lib/python3.10/site-packages/numpy/linalg/linalg.py:2154: RuntimeWarning: invalid value encountered in det\n",
      "  r = _umath_linalg.det(a, signature=signature)\n"
     ]
    },
    {
     "name": "stdout",
     "output_type": "stream",
     "text": [
      "0.98225\n",
      "0.99025\n"
     ]
    },
    {
     "name": "stderr",
     "output_type": "stream",
     "text": [
      "/opt/homebrew/lib/python3.10/site-packages/numpy/linalg/linalg.py:2154: RuntimeWarning: divide by zero encountered in det\n",
      "  r = _umath_linalg.det(a, signature=signature)\n",
      "/opt/homebrew/lib/python3.10/site-packages/numpy/linalg/linalg.py:2154: RuntimeWarning: invalid value encountered in det\n",
      "  r = _umath_linalg.det(a, signature=signature)\n",
      "/opt/homebrew/lib/python3.10/site-packages/numpy/linalg/linalg.py:2154: RuntimeWarning: divide by zero encountered in det\n",
      "  r = _umath_linalg.det(a, signature=signature)\n",
      "/opt/homebrew/lib/python3.10/site-packages/numpy/linalg/linalg.py:2154: RuntimeWarning: invalid value encountered in det\n",
      "  r = _umath_linalg.det(a, signature=signature)\n"
     ]
    },
    {
     "name": "stdout",
     "output_type": "stream",
     "text": [
      "0.98225\n"
     ]
    },
    {
     "name": "stderr",
     "output_type": "stream",
     "text": [
      "/opt/homebrew/lib/python3.10/site-packages/numpy/linalg/linalg.py:2154: RuntimeWarning: divide by zero encountered in det\n",
      "  r = _umath_linalg.det(a, signature=signature)\n",
      "/opt/homebrew/lib/python3.10/site-packages/numpy/linalg/linalg.py:2154: RuntimeWarning: invalid value encountered in det\n",
      "  r = _umath_linalg.det(a, signature=signature)\n",
      "/opt/homebrew/lib/python3.10/site-packages/numpy/linalg/linalg.py:2154: RuntimeWarning: divide by zero encountered in det\n",
      "  r = _umath_linalg.det(a, signature=signature)\n",
      "/opt/homebrew/lib/python3.10/site-packages/numpy/linalg/linalg.py:2154: RuntimeWarning: invalid value encountered in det\n",
      "  r = _umath_linalg.det(a, signature=signature)\n"
     ]
    },
    {
     "name": "stdout",
     "output_type": "stream",
     "text": [
      "0.99075\n"
     ]
    },
    {
     "name": "stderr",
     "output_type": "stream",
     "text": [
      "/opt/homebrew/lib/python3.10/site-packages/numpy/linalg/linalg.py:2154: RuntimeWarning: divide by zero encountered in det\n",
      "  r = _umath_linalg.det(a, signature=signature)\n",
      "/opt/homebrew/lib/python3.10/site-packages/numpy/linalg/linalg.py:2154: RuntimeWarning: invalid value encountered in det\n",
      "  r = _umath_linalg.det(a, signature=signature)\n",
      "/opt/homebrew/lib/python3.10/site-packages/numpy/linalg/linalg.py:2154: RuntimeWarning: divide by zero encountered in det\n",
      "  r = _umath_linalg.det(a, signature=signature)\n",
      "/opt/homebrew/lib/python3.10/site-packages/numpy/linalg/linalg.py:2154: RuntimeWarning: invalid value encountered in det\n",
      "  r = _umath_linalg.det(a, signature=signature)\n"
     ]
    },
    {
     "name": "stdout",
     "output_type": "stream",
     "text": [
      "0.98325\n"
     ]
    },
    {
     "name": "stderr",
     "output_type": "stream",
     "text": [
      "/opt/homebrew/lib/python3.10/site-packages/numpy/linalg/linalg.py:2154: RuntimeWarning: divide by zero encountered in det\n",
      "  r = _umath_linalg.det(a, signature=signature)\n",
      "/opt/homebrew/lib/python3.10/site-packages/numpy/linalg/linalg.py:2154: RuntimeWarning: invalid value encountered in det\n",
      "  r = _umath_linalg.det(a, signature=signature)\n",
      "/opt/homebrew/lib/python3.10/site-packages/numpy/linalg/linalg.py:2154: RuntimeWarning: divide by zero encountered in det\n",
      "  r = _umath_linalg.det(a, signature=signature)\n",
      "/opt/homebrew/lib/python3.10/site-packages/numpy/linalg/linalg.py:2154: RuntimeWarning: invalid value encountered in det\n",
      "  r = _umath_linalg.det(a, signature=signature)\n",
      "/opt/homebrew/lib/python3.10/site-packages/numpy/linalg/linalg.py:2154: RuntimeWarning: divide by zero encountered in det\n",
      "  r = _umath_linalg.det(a, signature=signature)\n",
      "/opt/homebrew/lib/python3.10/site-packages/numpy/linalg/linalg.py:2154: RuntimeWarning: invalid value encountered in det\n",
      "  r = _umath_linalg.det(a, signature=signature)\n",
      "/opt/homebrew/lib/python3.10/site-packages/numpy/linalg/linalg.py:2154: RuntimeWarning: divide by zero encountered in det\n",
      "  r = _umath_linalg.det(a, signature=signature)\n",
      "/opt/homebrew/lib/python3.10/site-packages/numpy/linalg/linalg.py:2154: RuntimeWarning: invalid value encountered in det\n",
      "  r = _umath_linalg.det(a, signature=signature)\n"
     ]
    },
    {
     "name": "stdout",
     "output_type": "stream",
     "text": [
      "0.98075\n"
     ]
    },
    {
     "name": "stderr",
     "output_type": "stream",
     "text": [
      "/opt/homebrew/lib/python3.10/site-packages/numpy/linalg/linalg.py:2154: RuntimeWarning: divide by zero encountered in det\n",
      "  r = _umath_linalg.det(a, signature=signature)\n",
      "/opt/homebrew/lib/python3.10/site-packages/numpy/linalg/linalg.py:2154: RuntimeWarning: invalid value encountered in det\n",
      "  r = _umath_linalg.det(a, signature=signature)\n",
      "/opt/homebrew/lib/python3.10/site-packages/numpy/linalg/linalg.py:2154: RuntimeWarning: divide by zero encountered in det\n",
      "  r = _umath_linalg.det(a, signature=signature)\n",
      "/opt/homebrew/lib/python3.10/site-packages/numpy/linalg/linalg.py:2154: RuntimeWarning: invalid value encountered in det\n",
      "  r = _umath_linalg.det(a, signature=signature)\n"
     ]
    },
    {
     "name": "stdout",
     "output_type": "stream",
     "text": [
      "0.98875\n"
     ]
    },
    {
     "name": "stderr",
     "output_type": "stream",
     "text": [
      "/opt/homebrew/lib/python3.10/site-packages/numpy/linalg/linalg.py:2154: RuntimeWarning: divide by zero encountered in det\n",
      "  r = _umath_linalg.det(a, signature=signature)\n",
      "/opt/homebrew/lib/python3.10/site-packages/numpy/linalg/linalg.py:2154: RuntimeWarning: invalid value encountered in det\n",
      "  r = _umath_linalg.det(a, signature=signature)\n",
      "/opt/homebrew/lib/python3.10/site-packages/numpy/linalg/linalg.py:2154: RuntimeWarning: divide by zero encountered in det\n",
      "  r = _umath_linalg.det(a, signature=signature)\n",
      "/opt/homebrew/lib/python3.10/site-packages/numpy/linalg/linalg.py:2154: RuntimeWarning: invalid value encountered in det\n",
      "  r = _umath_linalg.det(a, signature=signature)\n"
     ]
    },
    {
     "name": "stdout",
     "output_type": "stream",
     "text": [
      "0.98375\n",
      "0.99325\n",
      "[0.0, 0.0, 0.0, 0.0, 0.0, 0.0, 0.0, 6.844745031217468e-05, 0.0, 0.0, 0.0, 0.0, 0.0, 0.0, 0.0]\n"
     ]
    }
   ],
   "source": [
    "# params = [0.0] * 15 \n",
    "# fidelity = 0.0\n",
    "# while fidelity < 0.99:\n",
    "#     for i in range(len(params)):\n",
    "#         def optimize_func(xi):\n",
    "#             input_params = params[:i] + [float(xi)] + params[i+1:]\n",
    "#             return 1 - mcx_fidelity(input_params)\n",
    "        \n",
    "#         result = minimize(optimize_func, params[i])\n",
    "#         if result.success:\n",
    "#             fitted_param = result.x\n",
    "#             params[i] = float(fitted_param[0])\n",
    "        \n",
    "#         fidelity = mcx_fidelity(params)\n",
    "#         print(fidelity)\n",
    "\n",
    "# print(params)"
   ]
  },
  {
   "cell_type": "code",
   "execution_count": null,
   "metadata": {},
   "outputs": [],
   "source": []
  }
 ],
 "metadata": {
  "kernelspec": {
   "display_name": "Python 3",
   "language": "python",
   "name": "python3"
  },
  "language_info": {
   "codemirror_mode": {
    "name": "ipython",
    "version": 3
   },
   "file_extension": ".py",
   "mimetype": "text/x-python",
   "name": "python",
   "nbconvert_exporter": "python",
   "pygments_lexer": "ipython3",
   "version": "3.10.8"
  }
 },
 "nbformat": 4,
 "nbformat_minor": 2
}
