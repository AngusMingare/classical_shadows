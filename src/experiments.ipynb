{
 "cells": [
  {
   "cell_type": "code",
   "execution_count": 1,
   "metadata": {},
   "outputs": [
    {
     "name": "stderr",
     "output_type": "stream",
     "text": [
      "/opt/homebrew/lib/python3.10/site-packages/numba/core/decorators.py:262: NumbaDeprecationWarning: \u001b[1mnumba.generated_jit is deprecated. Please see the documentation at: https://numba.readthedocs.io/en/stable/reference/deprecation.html#deprecation-of-generated-jit for more information and advice on a suitable replacement.\u001b[0m\n",
      "  warnings.warn(msg, NumbaDeprecationWarning)\n"
     ]
    }
   ],
   "source": [
    "import os\n",
    "from symmer import PauliwordOp, QuantumState, QubitTapering\n",
    "from symmer.operators import AntiCommutingOp, single_term_expval\n",
    "from symmer.utils import exact_gs_energy\n",
    "from symmer.evolution.exponentiation import *\n",
    "from symmer.evolution.decomposition import *\n",
    "import json\n",
    "import numpy as np\n",
    "from vqe.measurements import measureObservable\n",
    "from tomography.cst import ClassicalShadow\n",
    "from qiskit import QuantumCircuit\n",
    "from qiskit.extensions import UnitaryGate\n",
    "\n",
    "# Set up directories\n",
    "cwd = os.getcwd()\n",
    "file_dir =  os.path.dirname(cwd)\n",
    "symmer_dir = os.path.join(cwd, 'symmer')\n",
    "test_dir = os.path.join(symmer_dir, 'tests')\n",
    "ham_data_dir = os.path.join(test_dir, 'hamiltonian_data')\n",
    "\n",
    "# Get a Hamiltonian\n",
    "ham_list = os.listdir(ham_data_dir)\n",
    "num_qubits = []\n",
    "for ham in ham_list:\n",
    "    with open(os.path.join(ham_data_dir, ham), 'r') as infile:\n",
    "        data_dict = json.load(infile)\n",
    "    H = PauliwordOp.from_dictionary(data_dict['hamiltonian'])\n",
    "    num_qubits.append(H.n_qubits)\n",
    "sorted_list = sorted(zip(ham_list, num_qubits), key = lambda x: x[1])\n",
    "ham_list = [ham for ham,_ in sorted_list]"
   ]
  },
  {
   "cell_type": "code",
   "execution_count": 2,
   "metadata": {},
   "outputs": [
    {
     "name": "stdout",
     "output_type": "stream",
     "text": [
      "H3+_STO-3G_SINGLET_JW.json\n",
      "The exact gs energy is -1.274412699726855\n",
      "(-1.274412699726855+0j)\n",
      "-0.991+0.000j |000> +\n",
      "-0.097+0.000j |001> +\n",
      " 0.000+0.000j |010> +\n",
      " 0.000+0.000j |100> +\n",
      " 0.097+0.000j |110>\n"
     ]
    }
   ],
   "source": [
    "filename = ham_list[0]\n",
    "print(filename)\n",
    "with open(os.path.join(ham_data_dir, filename), 'r') as infile:\n",
    "    data_dict = json.load(infile)\n",
    "H = PauliwordOp.from_dictionary(data_dict['hamiltonian'])\n",
    "\n",
    "# Tapering\n",
    "QT = QubitTapering(H)\n",
    "hf_state   = QuantumState(np.asarray(data_dict['data']['hf_array'])) # Hartree-Fock state\n",
    "hf_energy  = data_dict['data']['calculated_properties']['HF']['energy']\n",
    "H_taper   = QT.taper_it(ref_state=hf_state) \n",
    "\n",
    "# Exact Energy\n",
    "gs_nrg_tap, gs_psi_tap = exact_gs_energy(H_taper.to_sparse_matrix)\n",
    "print(\"The exact gs energy is \" + str(gs_nrg_tap))\n",
    "\n",
    "# Check that gs_psi_tap is the true gs\n",
    "nrg_calc = 0\n",
    "for p in range(H_taper.n_terms):\n",
    "    nrg_calc += H_taper.coeff_vec[p] * single_term_expval(H_taper[p], gs_psi_tap)\n",
    "print(nrg_calc)\n",
    "\n",
    "# Get qiskit circuit preparing gs_psi_tap\n",
    "sp_circ = QuantumCircuit(gs_psi_tap.n_qubits)\n",
    "gs_psi_tap_dict = gs_psi_tap.to_dictionary\n",
    "gs_psi_tap_array = np.array([0]*(2**gs_psi_tap.n_qubits), dtype=complex)\n",
    "def bin_to_int(b):\n",
    "    b = b[::-1]\n",
    "    l = len(b)\n",
    "    val = 0\n",
    "    for a in range(l):\n",
    "        val += int(b[a]) * (2**(l-1-a))\n",
    "    return val\n",
    "for p, w in zip(list(gs_psi_tap_dict.keys()), list(gs_psi_tap_dict.values())):\n",
    "    val = bin_to_int(p)\n",
    "    gs_psi_tap_array[val] = w \n",
    "sp_circ.prepare_state(gs_psi_tap_array)\n",
    "print(gs_psi_tap)"
   ]
  },
  {
   "cell_type": "code",
   "execution_count": 25,
   "metadata": {},
   "outputs": [
    {
     "name": "stdout",
     "output_type": "stream",
     "text": [
      "basic VQE: (-1.248159551670186+0j)\n"
     ]
    }
   ],
   "source": [
    "# Run a quantum experiment to estimate gs energy given gs_psi_tap and H_taper\n",
    "sp_circ_copy = sp_circ.copy()\n",
    "gs_nrg_basic_vqe = measureObservable(sp_circ_copy, range(sp_circ_copy.num_qubits), H_taper, shots=1000, total_shots_provided=True)\n",
    "print(\"basic VQE: \" + str(gs_nrg_basic_vqe))"
   ]
  },
  {
   "cell_type": "code",
   "execution_count": 26,
   "metadata": {},
   "outputs": [
    {
     "name": "stdout",
     "output_type": "stream",
     "text": [
      "UP VQE: (1.246448960695822+0j)\n"
     ]
    }
   ],
   "source": [
    "# Run a quantum experiment to estimate gs energy given gs_psi_tap and H_taper using unitary partitioning\n",
    "clique_cover = H_taper.clique_cover(edge_relation='AC')\n",
    "gs_nrg_up_vqe = 0\n",
    "for clique in clique_cover.values():\n",
    "    ac_op = AntiCommutingOp.from_PauliwordOp(clique)\n",
    "    pop,rots,w,op = ac_op.unitary_partitioning()\n",
    "    sp_circ_copy = sp_circ.copy()\n",
    "    if rots != None:\n",
    "          rots = rots[::-1]\n",
    "          for rot, coeff in rots:\n",
    "            rot = rot * -coeff\n",
    "            rot = PauliwordOp_to_QuantumCircuit(rot)           \n",
    "            sp_circ_copy = sp_circ_copy.compose(rot, list(range(sp_circ_copy.num_qubits)))\n",
    "    gs_nrg_up_vqe += w * measureObservable(sp_circ_copy, range(sp_circ_copy.num_qubits), pop, shots=1000, total_shots_provided=True)\n",
    "print(\"UP VQE: \" + str(gs_nrg_up_vqe))"
   ]
  },
  {
   "cell_type": "code",
   "execution_count": 27,
   "metadata": {},
   "outputs": [
    {
     "name": "stdout",
     "output_type": "stream",
     "text": [
      "snapshots collected\n",
      "shadows obtained\n"
     ]
    }
   ],
   "source": [
    "# Estimate gs energy given gs_psi_tap and H_taper using classical shadows\n",
    "sp_circ_copy = sp_circ.copy()\n",
    "H_taper_dict = H_taper.to_dictionary\n",
    "obs = list(H_taper_dict.keys())\n",
    "classical_shadow = ClassicalShadow(sp_circ_copy, obs)\n",
    "classical_shadow.createClassicalShadows(unitary_ensemble=\"random clifford\", num_shadows=1000)"
   ]
  },
  {
   "cell_type": "code",
   "execution_count": 28,
   "metadata": {},
   "outputs": [
    {
     "name": "stdout",
     "output_type": "stream",
     "text": [
      "Classical shadows: (-1.1130976873351086+0j)\n"
     ]
    }
   ],
   "source": [
    "classical_shadow.observables = [PauliwordOp.from_dictionary({o : w}).to_sparse_matrix for o,w in zip(list(H_taper_dict.keys()), list(H_taper_dict.values()))]\n",
    "obs, results = classical_shadow.linearPredictions(10)\n",
    "gs_nrg_tap_cst = 0\n",
    "for w, exp in zip(list(H_taper_dict.values()), results):\n",
    "    gs_nrg_tap_cst += exp \n",
    "print(\"Classical shadows: \" + str(gs_nrg_tap_cst))"
   ]
  },
  {
   "cell_type": "code",
   "execution_count": 29,
   "metadata": {},
   "outputs": [
    {
     "name": "stdout",
     "output_type": "stream",
     "text": [
      "Classical shadows and UP: (-1.1137598026313573+1.7262835793357576e-18j)\n"
     ]
    }
   ],
   "source": [
    "# Estimate gs energy given gs_psi_tap and H_taper using unitary partitioning and classical shadows\n",
    "classical_shadow.observables = []\n",
    "weights = []\n",
    "for clique in clique_cover.values():\n",
    "    ac_op = AntiCommutingOp.from_PauliwordOp(clique)\n",
    "    pop,rots,w,op = ac_op.unitary_partitioning()\n",
    "    classical_shadow.observables.append(op.to_sparse_matrix)\n",
    "    weights.append(w)\n",
    "_, results = classical_shadow.linearPredictions(10)\n",
    "gs_nrg_tap_cst_up = 0\n",
    "for w, exp in zip(weights, results):\n",
    "    gs_nrg_tap_cst_up += w * exp \n",
    "print(\"Classical shadows and UP: \" + str(gs_nrg_tap_cst_up))"
   ]
  },
  {
   "cell_type": "code",
   "execution_count": 3,
   "metadata": {},
   "outputs": [
    {
     "name": "stderr",
     "output_type": "stream",
     "text": [
      "/opt/homebrew/lib/python3.10/site-packages/numpy/linalg/linalg.py:2154: RuntimeWarning: divide by zero encountered in det\n",
      "  r = _umath_linalg.det(a, signature=signature)\n",
      "/opt/homebrew/lib/python3.10/site-packages/numpy/linalg/linalg.py:2154: RuntimeWarning: invalid value encountered in det\n",
      "  r = _umath_linalg.det(a, signature=signature)\n"
     ]
    },
    {
     "name": "stdout",
     "output_type": "stream",
     "text": [
      "snapshots collected\n",
      "shadows obtained\n"
     ]
    }
   ],
   "source": [
    "# Estimate gs energy given gs_nrg_tap and H_taper using classical shadows in the Pauli basis\n",
    "sp_circ_copy = sp_circ.copy()\n",
    "H_taper_dict = H_taper.to_dictionary\n",
    "obs = list(H_taper_dict.keys())\n",
    "classical_shadow = ClassicalShadow(sp_circ_copy, obs)\n",
    "classical_shadow.createClassicalShadows(unitary_ensemble=\"pauli\", num_shadows=1000)"
   ]
  },
  {
   "cell_type": "code",
   "execution_count": 4,
   "metadata": {},
   "outputs": [
    {
     "name": "stdout",
     "output_type": "stream",
     "text": [
      "Classical shadows Pauli: (-3.4112727237786076+0j)\n"
     ]
    }
   ],
   "source": [
    "classical_shadow.observables = [PauliwordOp.from_dictionary({o : w}).to_sparse_matrix for o,w in zip(list(H_taper_dict.keys()), list(H_taper_dict.values()))]\n",
    "obs, results = classical_shadow.linearPredictions(10)\n",
    "gs_nrg_tap_cst = 0\n",
    "for w, exp in zip(list(H_taper_dict.values()), results):\n",
    "    gs_nrg_tap_cst += exp \n",
    "print(\"Classical shadows Pauli: \" + str(gs_nrg_tap_cst))"
   ]
  },
  {
   "cell_type": "code",
   "execution_count": 5,
   "metadata": {},
   "outputs": [
    {
     "ename": "NameError",
     "evalue": "name 'clique_cover' is not defined",
     "output_type": "error",
     "traceback": [
      "\u001b[0;31m---------------------------------------------------------------------------\u001b[0m",
      "\u001b[0;31mNameError\u001b[0m                                 Traceback (most recent call last)",
      "Cell \u001b[0;32mIn[5], line 4\u001b[0m\n\u001b[1;32m      2\u001b[0m classical_shadow\u001b[39m.\u001b[39mobservables \u001b[39m=\u001b[39m []\n\u001b[1;32m      3\u001b[0m weights \u001b[39m=\u001b[39m []\n\u001b[0;32m----> 4\u001b[0m \u001b[39mfor\u001b[39;00m clique \u001b[39min\u001b[39;00m clique_cover\u001b[39m.\u001b[39mvalues():\n\u001b[1;32m      5\u001b[0m     ac_op \u001b[39m=\u001b[39m AntiCommutingOp\u001b[39m.\u001b[39mfrom_PauliwordOp(clique)\n\u001b[1;32m      6\u001b[0m     pop,rots,w,op \u001b[39m=\u001b[39m ac_op\u001b[39m.\u001b[39munitary_partitioning()\n",
      "\u001b[0;31mNameError\u001b[0m: name 'clique_cover' is not defined"
     ]
    }
   ],
   "source": [
    "# Estimate gs energy given gs_psi_tap and H_taper using unitary partitioning and classical shadows\n",
    "classical_shadow.observables = []\n",
    "weights = []\n",
    "for clique in clique_cover.values():\n",
    "    ac_op = AntiCommutingOp.from_PauliwordOp(clique)\n",
    "    pop,rots,w,op = ac_op.unitary_partitioning()\n",
    "    classical_shadow.observables.append(op.to_sparse_matrix)\n",
    "    weights.append(w)\n",
    "_, results = classical_shadow.linearPredictions(10)\n",
    "gs_nrg_tap_cst_up = 0\n",
    "for w, exp in zip(weights, results):\n",
    "    gs_nrg_tap_cst_up += w * exp \n",
    "print(\"Classical shadows Pauli and UP: \" + str(gs_nrg_tap_cst_up))"
   ]
  },
  {
   "cell_type": "code",
   "execution_count": null,
   "metadata": {},
   "outputs": [],
   "source": []
  }
 ],
 "metadata": {
  "kernelspec": {
   "display_name": "Python 3",
   "language": "python",
   "name": "python3"
  },
  "language_info": {
   "codemirror_mode": {
    "name": "ipython",
    "version": 3
   },
   "file_extension": ".py",
   "mimetype": "text/x-python",
   "name": "python",
   "nbconvert_exporter": "python",
   "pygments_lexer": "ipython3",
   "version": "3.10.8"
  },
  "orig_nbformat": 4
 },
 "nbformat": 4,
 "nbformat_minor": 2
}
