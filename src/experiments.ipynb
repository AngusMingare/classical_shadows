{
 "cells": [
  {
   "cell_type": "code",
   "execution_count": 16,
   "metadata": {},
   "outputs": [],
   "source": [
    "import os\n",
    "from symmer import PauliwordOp, QuantumState, QubitTapering\n",
    "from symmer.operators import AntiCommutingOp, single_term_expval\n",
    "from symmer.utils import exact_gs_energy\n",
    "from symmer.evolution.exponentiation import *\n",
    "from symmer.evolution.decomposition import *\n",
    "import json\n",
    "import numpy as np\n",
    "from vqe.measurements import measureObservable\n",
    "from tomography.cst import ClassicalShadow\n",
    "from qiskit import QuantumCircuit\n",
    "from qiskit.extensions import UnitaryGate\n",
    "\n",
    "# Set up directories\n",
    "cwd = os.getcwd()\n",
    "file_dir =  os.path.dirname(cwd)\n",
    "symmer_dir = os.path.join(cwd, 'symmer')\n",
    "test_dir = os.path.join(symmer_dir, 'tests')\n",
    "ham_data_dir = os.path.join(test_dir, 'hamiltonian_data')\n",
    "\n",
    "# Get a Hamiltonian\n",
    "ham_list = os.listdir(ham_data_dir)\n",
    "num_qubits = []\n",
    "for ham in ham_list:\n",
    "    with open(os.path.join(ham_data_dir, ham), 'r') as infile:\n",
    "        data_dict = json.load(infile)\n",
    "    H = PauliwordOp.from_dictionary(data_dict['hamiltonian'])\n",
    "    num_qubits.append(H.n_qubits)\n",
    "sorted_list = sorted(zip(ham_list, num_qubits), key = lambda x: x[1])\n",
    "ham_list = [ham for ham,_ in sorted_list]"
   ]
  },
  {
   "cell_type": "code",
   "execution_count": 17,
   "metadata": {},
   "outputs": [
    {
     "name": "stdout",
     "output_type": "stream",
     "text": [
      "H3+_STO-3G_SINGLET_JW.json\n",
      "The exact gs energy is -1.274412699726855\n",
      "(-1.274412699726855+0j)\n",
      "-0.991+0.000j |000> +\n",
      "-0.097+0.000j |001> +\n",
      " 0.000+0.000j |010> +\n",
      " 0.000+0.000j |100> +\n",
      " 0.097+0.000j |110>\n"
     ]
    }
   ],
   "source": [
    "filename = ham_list[0]\n",
    "print(filename)\n",
    "with open(os.path.join(ham_data_dir, filename), 'r') as infile:\n",
    "    data_dict = json.load(infile)\n",
    "H = PauliwordOp.from_dictionary(data_dict['hamiltonian'])\n",
    "\n",
    "# Tapering\n",
    "QT = QubitTapering(H)\n",
    "hf_state   = QuantumState(np.asarray(data_dict['data']['hf_array'])) # Hartree-Fock state\n",
    "hf_energy  = data_dict['data']['calculated_properties']['HF']['energy']\n",
    "H_taper   = QT.taper_it(ref_state=hf_state) \n",
    "\n",
    "# Exact Energy\n",
    "gs_nrg_tap, gs_psi_tap = exact_gs_energy(H_taper.to_sparse_matrix)\n",
    "print(\"The exact gs energy is \" + str(gs_nrg_tap))\n",
    "\n",
    "# Check that gs_psi_tap is the true gs\n",
    "nrg_calc = 0\n",
    "for p in range(H_taper.n_terms):\n",
    "    nrg_calc += H_taper.coeff_vec[p] * single_term_expval(H_taper[p], gs_psi_tap)\n",
    "print(nrg_calc)\n",
    "\n",
    "# Get qiskit circuit preparing gs_psi_tap\n",
    "sp_circ = QuantumCircuit(gs_psi_tap.n_qubits)\n",
    "gs_psi_tap_dict = gs_psi_tap.to_dictionary\n",
    "gs_psi_tap_array = np.array([0]*(2**gs_psi_tap.n_qubits), dtype=complex)\n",
    "def bin_to_int(b):\n",
    "    b = b[::-1]\n",
    "    l = len(b)\n",
    "    val = 0\n",
    "    for a in range(l):\n",
    "        val += int(b[a]) * (2**(l-1-a))\n",
    "    return val\n",
    "for p, w in zip(list(gs_psi_tap_dict.keys()), list(gs_psi_tap_dict.values())):\n",
    "    val = bin_to_int(p)\n",
    "    gs_psi_tap_array[val] = w \n",
    "sp_circ.prepare_state(gs_psi_tap_array)\n",
    "print(gs_psi_tap)"
   ]
  },
  {
   "cell_type": "code",
   "execution_count": 18,
   "metadata": {},
   "outputs": [
    {
     "name": "stdout",
     "output_type": "stream",
     "text": [
      "basic VQE: (-1.2501235902299617+0j)\n"
     ]
    }
   ],
   "source": [
    "# Run a quantum experiment to estimate gs energy given gs_psi_tap and H_taper\n",
    "sp_circ_copy = sp_circ.copy()\n",
    "gs_nrg_basic_vqe = measureObservable(sp_circ_copy, range(sp_circ_copy.num_qubits), H_taper, shots=1000, total_shots_provided=True)\n",
    "print(\"basic VQE: \" + str(gs_nrg_basic_vqe))"
   ]
  },
  {
   "cell_type": "code",
   "execution_count": 19,
   "metadata": {},
   "outputs": [
    {
     "name": "stdout",
     "output_type": "stream",
     "text": [
      "UP VQE: (1.2994538926727897+0j)\n"
     ]
    }
   ],
   "source": [
    "# Run a quantum experiment to estimate gs energy given gs_psi_tap and H_taper using unitary partitioning\n",
    "clique_cover = H_taper.clique_cover(edge_relation='AC')\n",
    "gs_nrg_up_vqe = 0\n",
    "for clique in clique_cover.values():\n",
    "    ac_op = AntiCommutingOp.from_PauliwordOp(clique)\n",
    "    pop,rots,w,op = ac_op.unitary_partitioning()\n",
    "    sp_circ_copy = sp_circ.copy()\n",
    "    if rots != None:\n",
    "          rots = rots[::-1]\n",
    "          for rot, coeff in rots:\n",
    "            rot = rot * -coeff\n",
    "            rot = PauliwordOp_to_QuantumCircuit(rot)           \n",
    "            sp_circ_copy = sp_circ_copy.compose(rot, list(range(sp_circ_copy.num_qubits)))\n",
    "    gs_nrg_up_vqe += w * measureObservable(sp_circ_copy, range(sp_circ_copy.num_qubits), pop, shots=1000, total_shots_provided=True)\n",
    "print(\"UP VQE: \" + str(gs_nrg_up_vqe))"
   ]
  },
  {
   "cell_type": "code",
   "execution_count": 20,
   "metadata": {},
   "outputs": [
    {
     "name": "stdout",
     "output_type": "stream",
     "text": [
      "snapshots collected\n",
      "shadows obtained\n"
     ]
    }
   ],
   "source": [
    "# Estimate gs energy given gs_psi_tap and H_taper using classical shadows\n",
    "sp_circ_copy = sp_circ.copy()\n",
    "H_taper_dict = H_taper.to_dictionary\n",
    "obs = list(H_taper_dict.keys())\n",
    "classical_shadow = ClassicalShadow(sp_circ_copy, obs)\n",
    "classical_shadow.createClassicalShadows(unitary_ensemble=\"random clifford\", num_shadows=1000)"
   ]
  },
  {
   "cell_type": "code",
   "execution_count": 21,
   "metadata": {},
   "outputs": [
    {
     "name": "stdout",
     "output_type": "stream",
     "text": [
      "Classical shadows: (-1.1458542834262224+0j)\n"
     ]
    }
   ],
   "source": [
    "classical_shadow.observables = [PauliwordOp.from_dictionary({o : w}).to_sparse_matrix for o,w in zip(list(H_taper_dict.keys()), list(H_taper_dict.values()))]\n",
    "obs, results = classical_shadow.linearPredictions(10)\n",
    "gs_nrg_tap_cst = 0\n",
    "for w, exp in zip(list(H_taper_dict.values()), results):\n",
    "    gs_nrg_tap_cst += exp \n",
    "print(\"Classical shadows: \" + str(gs_nrg_tap_cst))"
   ]
  },
  {
   "cell_type": "code",
   "execution_count": 22,
   "metadata": {},
   "outputs": [
    {
     "name": "stdout",
     "output_type": "stream",
     "text": [
      "Classical shadows and UP: (-1.1334160766999342-1.0476469810368112e-18j)\n"
     ]
    }
   ],
   "source": [
    "# Estimate gs energy given gs_psi_tap and H_taper using unitary partitioning and classical shadows\n",
    "classical_shadow.observables = []\n",
    "weights = []\n",
    "for clique in clique_cover.values():\n",
    "    ac_op = AntiCommutingOp.from_PauliwordOp(clique)\n",
    "    pop,rots,w,op = ac_op.unitary_partitioning()\n",
    "    classical_shadow.observables.append(op.to_sparse_matrix)\n",
    "    weights.append(w)\n",
    "_, results = classical_shadow.linearPredictions(10)\n",
    "gs_nrg_tap_cst_up = 0\n",
    "for w, exp in zip(weights, results):\n",
    "    gs_nrg_tap_cst_up += w * exp \n",
    "print(\"Classical shadows and UP: \" + str(gs_nrg_tap_cst_up))"
   ]
  },
  {
   "cell_type": "code",
   "execution_count": 23,
   "metadata": {},
   "outputs": [
    {
     "name": "stdout",
     "output_type": "stream",
     "text": [
      "snapshots collected\n",
      "shadows obtained\n"
     ]
    }
   ],
   "source": [
    "# Estimate gs energy given gs_nrg_tap and H_taper using classical shadows in the Pauli basis\n",
    "sp_circ_copy = sp_circ.copy()\n",
    "H_taper_dict = H_taper.to_dictionary\n",
    "obs = list(H_taper_dict.keys())\n",
    "classical_shadow = ClassicalShadow(sp_circ_copy, obs)\n",
    "classical_shadow.createClassicalShadows(unitary_ensemble=\"pauli\", num_shadows=1000)"
   ]
  },
  {
   "cell_type": "code",
   "execution_count": 24,
   "metadata": {},
   "outputs": [
    {
     "name": "stdout",
     "output_type": "stream",
     "text": [
      "Classical shadows Pauli: (-3.220654977213096+0j)\n"
     ]
    }
   ],
   "source": [
    "classical_shadow.observables = [PauliwordOp.from_dictionary({o : w}).to_sparse_matrix for o,w in zip(list(H_taper_dict.keys()), list(H_taper_dict.values()))]\n",
    "obs, results = classical_shadow.linearPredictions(10)\n",
    "gs_nrg_tap_cst = 0\n",
    "for w, exp in zip(list(H_taper_dict.values()), results):\n",
    "    gs_nrg_tap_cst += exp \n",
    "print(\"Classical shadows Pauli: \" + str(gs_nrg_tap_cst))"
   ]
  },
  {
   "cell_type": "code",
   "execution_count": 25,
   "metadata": {},
   "outputs": [
    {
     "name": "stdout",
     "output_type": "stream",
     "text": [
      "Classical shadows Pauli and UP: (-3.2200886468021697-1.4706965387688823e-18j)\n"
     ]
    }
   ],
   "source": [
    "# Estimate gs energy given gs_psi_tap and H_taper using unitary partitioning and classical shadows\n",
    "classical_shadow.observables = []\n",
    "weights = []\n",
    "for clique in clique_cover.values():\n",
    "    ac_op = AntiCommutingOp.from_PauliwordOp(clique)\n",
    "    pop,rots,w,op = ac_op.unitary_partitioning()\n",
    "    classical_shadow.observables.append(op.to_sparse_matrix)\n",
    "    weights.append(w)\n",
    "_, results = classical_shadow.linearPredictions(10)\n",
    "gs_nrg_tap_cst_up = 0\n",
    "for w, exp in zip(weights, results):\n",
    "    gs_nrg_tap_cst_up += w * exp \n",
    "print(\"Classical shadows Pauli and UP: \" + str(gs_nrg_tap_cst_up))"
   ]
  },
  {
   "cell_type": "code",
   "execution_count": null,
   "metadata": {},
   "outputs": [],
   "source": []
  }
 ],
 "metadata": {
  "kernelspec": {
   "display_name": "Python 3",
   "language": "python",
   "name": "python3"
  },
  "language_info": {
   "codemirror_mode": {
    "name": "ipython",
    "version": 3
   },
   "file_extension": ".py",
   "mimetype": "text/x-python",
   "name": "python",
   "nbconvert_exporter": "python",
   "pygments_lexer": "ipython3",
   "version": "3.10.8"
  },
  "orig_nbformat": 4
 },
 "nbformat": 4,
 "nbformat_minor": 2
}
