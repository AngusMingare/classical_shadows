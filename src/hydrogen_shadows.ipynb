{
 "cells": [
  {
   "cell_type": "code",
   "execution_count": 1,
   "metadata": {},
   "outputs": [],
   "source": [
    "H_dict = {'IIII': (-0.32760818967480926+0j), 'IIIZ': (-0.130362920571091+0j), 'IIZI': (-0.130362920571091+0j), 'IIZZ': (0.16326768673564335+0j), 'IZII': (0.13716572937099508+0j), 'IZIZ': (0.10622904490856078+0j), 'IZZI': (0.15542669077992832+0j), 'ZIII': (0.13716572937099508+0j), 'ZIIZ': (0.15542669077992832+0j), 'ZIZI': (0.10622904490856078+0j), 'ZZII': (0.15660062488237952+0j), 'XXYY': (-0.04919764587136754+0j), 'XYYX': (0.04919764587136754+0j), 'YXXY': (0.04919764587136754+0j), 'YYXX': (-0.04919764587136754+0j)}"
   ]
  },
  {
   "cell_type": "code",
   "execution_count": 2,
   "metadata": {},
   "outputs": [
    {
     "name": "stderr",
     "output_type": "stream",
     "text": [
      "/opt/homebrew/lib/python3.10/site-packages/numba/core/decorators.py:262: NumbaDeprecationWarning: \u001b[1mnumba.generated_jit is deprecated. Please see the documentation at: https://numba.readthedocs.io/en/stable/reference/deprecation.html#deprecation-of-generated-jit for more information and advice on a suitable replacement.\u001b[0m\n",
      "  warnings.warn(msg, NumbaDeprecationWarning)\n"
     ]
    }
   ],
   "source": [
    "import os\n",
    "import json\n",
    "import numpy as np\n",
    "from symmer import PauliwordOp, QuantumState, QubitTapering\n",
    "from symmer.operators import AntiCommutingOp, IndependentOp, PauliwordOp\n",
    "from symmer.utils import exact_gs_energy\n",
    "from symmer.evolution.exponentiation import *\n",
    "from symmer.evolution.decomposition import *\n",
    "from tomography.cst import ClassicalShadow\n",
    "from qiskit import QuantumCircuit, execute, Aer\n",
    "from qiskit.opflow import CircuitStateFn\n",
    "from scipy.sparse import csr_array\n",
    "from qiskit.circuit.library import PauliEvolutionGate"
   ]
  },
  {
   "cell_type": "code",
   "execution_count": 3,
   "metadata": {},
   "outputs": [
    {
     "name": "stdout",
     "output_type": "stream",
     "text": [
      "{0: -0.328+0.000j IIII +\n",
      "-0.130+0.000j IIIZ +\n",
      "-0.130+0.000j IIZI +\n",
      " 0.163+0.000j IIZZ +\n",
      " 0.137+0.000j IZII +\n",
      " 0.106+0.000j IZIZ +\n",
      " 0.155+0.000j IZZI +\n",
      " 0.137+0.000j ZIII +\n",
      " 0.155+0.000j ZIIZ +\n",
      " 0.106+0.000j ZIZI +\n",
      " 0.157+0.000j ZZII, 1: -0.049+0.000j XXYY +\n",
      " 0.049+0.000j XYYX +\n",
      " 0.049+0.000j YXXY +\n",
      "-0.049+0.000j YYXX}\n"
     ]
    }
   ],
   "source": [
    "Ham = PauliwordOp.from_dictionary(H_dict)\n",
    "clique_cover = Ham.clique_cover()\n",
    "print(clique_cover)"
   ]
  },
  {
   "cell_type": "code",
   "execution_count": 4,
   "metadata": {},
   "outputs": [
    {
     "name": "stdout",
     "output_type": "stream",
     "text": [
      "-1.101150330232619  0.175+0.000j |0011> +\n",
      "-0.985+0.000j |1100>\n"
     ]
    }
   ],
   "source": [
    "gs_nrg_tap, gs_psi_tap = exact_gs_energy(Ham.to_sparse_matrix)\n",
    "print(gs_nrg_tap, gs_psi_tap)\n"
   ]
  },
  {
   "cell_type": "code",
   "execution_count": 5,
   "metadata": {},
   "outputs": [],
   "source": [
    "sp_circ = QuantumCircuit(gs_psi_tap.n_qubits)\n",
    "gs_psi_tap_dict = gs_psi_tap.to_dictionary\n",
    "gs_psi_tap_array = np.array([0]*(2**gs_psi_tap.n_qubits), dtype=complex)\n",
    "def bin_to_int(b):\n",
    "    l = len(b)\n",
    "    val = 0\n",
    "    for a in range(l):\n",
    "        val += int(b[a]) * (2**(l-1-a))\n",
    "    return val\n",
    "for p, w in zip(list(gs_psi_tap_dict.keys()), list(gs_psi_tap_dict.values())):\n",
    "    val = bin_to_int(p)\n",
    "    gs_psi_tap_array[val] = w \n",
    "sp_circ.prepare_state(gs_psi_tap_array)\n",
    "\n",
    "\n",
    "assert np.all(np.isclose(\n",
    "    CircuitStateFn(sp_circ).to_matrix(),\n",
    "    gs_psi_tap.to_sparse_matrix.toarray().reshape(-1)\n",
    "))"
   ]
  },
  {
   "cell_type": "code",
   "execution_count": 6,
   "metadata": {},
   "outputs": [],
   "source": [
    "from functools import reduce\n",
    "\n",
    "shots = 1000\n",
    "\n",
    "stabilizers_generators_bitstrings = []\n",
    "\n",
    "for _ in range(shots):\n",
    "    clique = np.random.choice(list(clique_cover.values()))\n",
    "    independent_op = IndependentOp.clique_generators(clique)\n",
    "\n",
    "    assert np.all(independent_op.adjacency_matrix)\n",
    "    _, successful_mask = clique.generator_reconstruction(independent_op)\n",
    "    assert np.all(successful_mask)\n",
    "\n",
    "    # independent_op = IndependentOp.symmetry_generators(clique)\n",
    "    independent_op.generate_stabilizer_rotations()\n",
    "    stabilizer_rotations = independent_op.stabilizer_rotations\n",
    "\n",
    "    rotation_operator = reduce(\n",
    "        lambda x,y:x*y,\n",
    "        [(P**0 + P*1j)*(1/np.sqrt(2)) for P,_ in stabilizer_rotations[::-1]],\n",
    "        PauliwordOp.from_list(['I'*Ham.n_qubits])\n",
    "    )\n",
    "    \n",
    "    qc = QuantumCircuit(gs_psi_tap.n_qubits)\n",
    "    qc += sp_circ\n",
    "    for rot, _ in stabilizer_rotations:\n",
    "        p_rot = rot.to_qiskit\n",
    "        evo = PauliEvolutionGate(p_rot, time=-np.pi/4)\n",
    "        qc.append(evo, list(range(gs_psi_tap.n_qubits)))\n",
    "\n",
    "    output = CircuitStateFn(qc).to_matrix()\n",
    "\n",
    "    sample_probs = [np.abs(i)**2 for i in output.flatten()]\n",
    "    shot = np.random.choice(range(2**gs_psi_tap.n_qubits), p=sample_probs)\n",
    "    shot_bin = bin(shot)[2:].zfill(gs_psi_tap.n_qubits)\n",
    "    \n",
    "    assert np.all(np.isclose(\n",
    "        output,\n",
    "        (rotation_operator * gs_psi_tap).to_sparse_matrix.toarray().reshape(-1)\n",
    "    ))\n",
    "\n",
    "    stabilizers_generators_bitstrings.append((stabilizer_rotations, independent_op, shot_bin))"
   ]
  },
  {
   "cell_type": "code",
   "execution_count": 7,
   "metadata": {},
   "outputs": [],
   "source": [
    "def parity(bitstring):\n",
    "    \"\"\"\n",
    "    Returns 1 if the bitstring has an even number of 1s and returns 0 otherwise\n",
    "    \"\"\"\n",
    "    parity = 1\n",
    "    for bit in bitstring:\n",
    "        if bit == \"1\":\n",
    "            parity = parity * (-1)\n",
    "    return parity"
   ]
  },
  {
   "cell_type": "code",
   "execution_count": 1,
   "metadata": {},
   "outputs": [
    {
     "ename": "NameError",
     "evalue": "name 'Ham' is not defined",
     "output_type": "error",
     "traceback": [
      "\u001b[0;31m---------------------------------------------------------------------------\u001b[0m",
      "\u001b[0;31mNameError\u001b[0m                                 Traceback (most recent call last)",
      "\u001b[1;32m/Users/angusmingare/MRes/rse/classical_shadows/src/hydrogen_shadows.ipynb Cell 8\u001b[0m line \u001b[0;36m2\n\u001b[1;32m      <a href='vscode-notebook-cell:/Users/angusmingare/MRes/rse/classical_shadows/src/hydrogen_shadows.ipynb#X10sZmlsZQ%3D%3D?line=0'>1</a>\u001b[0m gs_nrg_cst \u001b[39m=\u001b[39m \u001b[39m0\u001b[39m\n\u001b[0;32m----> <a href='vscode-notebook-cell:/Users/angusmingare/MRes/rse/classical_shadows/src/hydrogen_shadows.ipynb#X10sZmlsZQ%3D%3D?line=1'>2</a>\u001b[0m terms \u001b[39m=\u001b[39m [PauliwordOp\u001b[39m.\u001b[39mfrom_dictionary({\u001b[39mlist\u001b[39m(Ham\u001b[39m.\u001b[39mto_dictionary\u001b[39m.\u001b[39mkeys())[i] : \u001b[39mlist\u001b[39m(Ham\u001b[39m.\u001b[39mto_dictionary\u001b[39m.\u001b[39mvalues())[i]}) \u001b[39mfor\u001b[39;00m i \u001b[39min\u001b[39;00m \u001b[39mrange\u001b[39m(\u001b[39mlen\u001b[39m(\u001b[39mlist\u001b[39m(Ham\u001b[39m.\u001b[39mto_dictionary\u001b[39m.\u001b[39mkeys())))]\n\u001b[1;32m      <a href='vscode-notebook-cell:/Users/angusmingare/MRes/rse/classical_shadows/src/hydrogen_shadows.ipynb#X10sZmlsZQ%3D%3D?line=3'>4</a>\u001b[0m \u001b[39mfor\u001b[39;00m term \u001b[39min\u001b[39;00m terms:\n\u001b[1;32m      <a href='vscode-notebook-cell:/Users/angusmingare/MRes/rse/classical_shadows/src/hydrogen_shadows.ipynb#X10sZmlsZQ%3D%3D?line=4'>5</a>\u001b[0m     pauli_string \u001b[39m=\u001b[39m \u001b[39mlist\u001b[39m(term\u001b[39m.\u001b[39mto_dictionary\u001b[39m.\u001b[39mkeys())[\u001b[39m0\u001b[39m]\n",
      "\u001b[0;31mNameError\u001b[0m: name 'Ham' is not defined"
     ]
    }
   ],
   "source": [
    "gs_nrg_cst = 0\n",
    "terms = [PauliwordOp.from_dictionary({list(Ham.to_dictionary.keys())[i] : list(Ham.to_dictionary.values())[i]}) for i in range(len(list(Ham.to_dictionary.keys())))]\n",
    "\n",
    "for term in terms:\n",
    "    pauli_string = list(term.to_dictionary.keys())[0]\n",
    "    weight = list(term.to_dictionary.values())[0]\n",
    "    shots = 0\n",
    "    counts0 = 0\n",
    "    counts1 = 0\n",
    "    for stabilizer_rotations, generators, bitstring in stabilizers_generators_bitstrings:\n",
    "        rotated_term_dict = term.perform_rotations(stabilizer_rotations).to_dictionary\n",
    "        rotated_term = list(rotated_term_dict.keys())[0]\n",
    "        rotated_weight = list(rotated_term_dict.values())[0]\n",
    "\n",
    "        flip_sign = False if rotated_weight == weight else True\n",
    "\n",
    "        recon_matrix, successful_mask = term.generator_reconstruction(generators)\n",
    "\n",
    "        Z_idxs = []\n",
    "        for p_idx in range(len(rotated_term)):\n",
    "            p = rotated_term[p_idx]\n",
    "            if p == \"Z\":\n",
    "                Z_idxs.append(p_idx)\n",
    "\n",
    "        if successful_mask[0] and not flip_sign:\n",
    "            shots += 1\n",
    "            subbitstring = \"\"\n",
    "            for idx in Z_idxs:\n",
    "                subbitstring += bitstring[idx]\n",
    "            if parity(subbitstring) == 1:\n",
    "                counts1 += 1\n",
    "            else:\n",
    "                counts0 += 1\n",
    "        elif successful_mask[0] and flip_sign:\n",
    "            shots += 1\n",
    "            subbitstring = \"\"\n",
    "            for idx in Z_idxs:\n",
    "                subbitstring += bitstring[idx]\n",
    "            if parity(subbitstring) == 1:\n",
    "                counts0 += 1\n",
    "            else:\n",
    "                counts1 += 1\n",
    "\n",
    "    if shots > 0:\n",
    "        gs_nrg_cst += (counts1/shots - counts0/shots) * weight\n",
    "    \n",
    "print(\"gs_nrg_tap_cst = \", str(gs_nrg_cst))\n"
   ]
  },
  {
   "cell_type": "code",
   "execution_count": null,
   "metadata": {},
   "outputs": [],
   "source": []
  }
 ],
 "metadata": {
  "kernelspec": {
   "display_name": "Python 3",
   "language": "python",
   "name": "python3"
  },
  "language_info": {
   "codemirror_mode": {
    "name": "ipython",
    "version": 3
   },
   "file_extension": ".py",
   "mimetype": "text/x-python",
   "name": "python",
   "nbconvert_exporter": "python",
   "pygments_lexer": "ipython3",
   "version": "3.10.8"
  }
 },
 "nbformat": 4,
 "nbformat_minor": 2
}
